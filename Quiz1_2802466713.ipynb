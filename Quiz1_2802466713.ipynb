{
 "cells": [
  {
   "metadata": {},
   "cell_type": "markdown",
   "source": [
    "### Quiz 1: \n",
    "#### Name: Ruixin Huang\n",
    "#### Number: 2802466713"
   ],
   "id": "75387b9e7efa5d78"
  },
  {
   "metadata": {
    "ExecuteTime": {
     "end_time": "2024-10-23T07:10:31.792260Z",
     "start_time": "2024-10-23T07:10:31.786542Z"
    }
   },
   "cell_type": "code",
   "source": [
    "# import \n",
    "import numpy as np\n",
    "import pandas as pd\n",
    "import matplotlib.pyplot as plt\n",
    "import seaborn as sns\n",
    "from sklearn.linear_model import LinearRegression, Ridge\n",
    "from sklearn.pipeline import Pipeline\n",
    "from sklearn.preprocessing import PolynomialFeatures, StandardScaler, OneHotEncoder\n",
    "from sklearn.impute import SimpleImputer\n",
    "from sklearn.model_selection import train_test_split, GridSearchCV, cross_val_score\n",
    "from sklearn.metrics import r2_score, mean_squared_error\n"
   ],
   "id": "8166fa56cb5ede99",
   "outputs": [],
   "execution_count": 11
  },
  {
   "metadata": {
    "ExecuteTime": {
     "end_time": "2024-10-23T07:10:48.703242Z",
     "start_time": "2024-10-23T07:10:33.973653Z"
    }
   },
   "cell_type": "code",
   "source": [
    " # Q1 import your data from the given link directly\n",
    "df = pd.read_csv(\"https://bit.ly/datasetA\")\n",
    "df.head()"
   ],
   "id": "7c14ce14344e3eb8",
   "outputs": [
    {
     "data": {
      "text/plain": [
       "   Unnamed: 0           Name  Age  Gender Blood Type Medical Condition  \\\n",
       "0           0  Bobby JacksOn   30    Male         B-            Cancer   \n",
       "1           1   LesLie TErRy   62    Male         A+           Obesity   \n",
       "2           2    DaNnY sMitH   76  Female         A-           Obesity   \n",
       "3           3   andrEw waTtS   28  Female         O+          Diabetes   \n",
       "4           4  adrIENNE bEll   43  Female        AB+            Cancer   \n",
       "\n",
       "  Date of Admission            Doctor                    Hospital  \\\n",
       "0        2024-01-31     Matthew Smith             Sons and Miller   \n",
       "1        2019-08-20   Samantha Davies                     Kim Inc   \n",
       "2        2022-09-22  Tiffany Mitchell                    Cook PLC   \n",
       "3        2020-11-18       Kevin Wells  Hernandez Rogers and Vang,   \n",
       "4        2022-09-19    Kathleen Hanna                 White-White   \n",
       "\n",
       "  Insurance Provider  Billing Amount  Room Number Admission Type  \\\n",
       "0         Blue Cross    18856.281306          328         Urgent   \n",
       "1           Medicare    33643.327287          265      Emergency   \n",
       "2              Aetna    27955.096079          205      Emergency   \n",
       "3           Medicare    37909.782410          450       Elective   \n",
       "4              Aetna    14238.317814          458         Urgent   \n",
       "\n",
       "  Discharge Date   Medication  Test Results  \n",
       "0     2024-02-02  Paracetamol        Normal  \n",
       "1     2019-08-26    Ibuprofen  Inconclusive  \n",
       "2     2022-10-07      Aspirin        Normal  \n",
       "3     2020-12-18    Ibuprofen      Abnormal  \n",
       "4     2022-10-09   Penicillin      Abnormal  "
      ],
      "text/html": [
       "<div>\n",
       "<style scoped>\n",
       "    .dataframe tbody tr th:only-of-type {\n",
       "        vertical-align: middle;\n",
       "    }\n",
       "\n",
       "    .dataframe tbody tr th {\n",
       "        vertical-align: top;\n",
       "    }\n",
       "\n",
       "    .dataframe thead th {\n",
       "        text-align: right;\n",
       "    }\n",
       "</style>\n",
       "<table border=\"1\" class=\"dataframe\">\n",
       "  <thead>\n",
       "    <tr style=\"text-align: right;\">\n",
       "      <th></th>\n",
       "      <th>Unnamed: 0</th>\n",
       "      <th>Name</th>\n",
       "      <th>Age</th>\n",
       "      <th>Gender</th>\n",
       "      <th>Blood Type</th>\n",
       "      <th>Medical Condition</th>\n",
       "      <th>Date of Admission</th>\n",
       "      <th>Doctor</th>\n",
       "      <th>Hospital</th>\n",
       "      <th>Insurance Provider</th>\n",
       "      <th>Billing Amount</th>\n",
       "      <th>Room Number</th>\n",
       "      <th>Admission Type</th>\n",
       "      <th>Discharge Date</th>\n",
       "      <th>Medication</th>\n",
       "      <th>Test Results</th>\n",
       "    </tr>\n",
       "  </thead>\n",
       "  <tbody>\n",
       "    <tr>\n",
       "      <th>0</th>\n",
       "      <td>0</td>\n",
       "      <td>Bobby JacksOn</td>\n",
       "      <td>30</td>\n",
       "      <td>Male</td>\n",
       "      <td>B-</td>\n",
       "      <td>Cancer</td>\n",
       "      <td>2024-01-31</td>\n",
       "      <td>Matthew Smith</td>\n",
       "      <td>Sons and Miller</td>\n",
       "      <td>Blue Cross</td>\n",
       "      <td>18856.281306</td>\n",
       "      <td>328</td>\n",
       "      <td>Urgent</td>\n",
       "      <td>2024-02-02</td>\n",
       "      <td>Paracetamol</td>\n",
       "      <td>Normal</td>\n",
       "    </tr>\n",
       "    <tr>\n",
       "      <th>1</th>\n",
       "      <td>1</td>\n",
       "      <td>LesLie TErRy</td>\n",
       "      <td>62</td>\n",
       "      <td>Male</td>\n",
       "      <td>A+</td>\n",
       "      <td>Obesity</td>\n",
       "      <td>2019-08-20</td>\n",
       "      <td>Samantha Davies</td>\n",
       "      <td>Kim Inc</td>\n",
       "      <td>Medicare</td>\n",
       "      <td>33643.327287</td>\n",
       "      <td>265</td>\n",
       "      <td>Emergency</td>\n",
       "      <td>2019-08-26</td>\n",
       "      <td>Ibuprofen</td>\n",
       "      <td>Inconclusive</td>\n",
       "    </tr>\n",
       "    <tr>\n",
       "      <th>2</th>\n",
       "      <td>2</td>\n",
       "      <td>DaNnY sMitH</td>\n",
       "      <td>76</td>\n",
       "      <td>Female</td>\n",
       "      <td>A-</td>\n",
       "      <td>Obesity</td>\n",
       "      <td>2022-09-22</td>\n",
       "      <td>Tiffany Mitchell</td>\n",
       "      <td>Cook PLC</td>\n",
       "      <td>Aetna</td>\n",
       "      <td>27955.096079</td>\n",
       "      <td>205</td>\n",
       "      <td>Emergency</td>\n",
       "      <td>2022-10-07</td>\n",
       "      <td>Aspirin</td>\n",
       "      <td>Normal</td>\n",
       "    </tr>\n",
       "    <tr>\n",
       "      <th>3</th>\n",
       "      <td>3</td>\n",
       "      <td>andrEw waTtS</td>\n",
       "      <td>28</td>\n",
       "      <td>Female</td>\n",
       "      <td>O+</td>\n",
       "      <td>Diabetes</td>\n",
       "      <td>2020-11-18</td>\n",
       "      <td>Kevin Wells</td>\n",
       "      <td>Hernandez Rogers and Vang,</td>\n",
       "      <td>Medicare</td>\n",
       "      <td>37909.782410</td>\n",
       "      <td>450</td>\n",
       "      <td>Elective</td>\n",
       "      <td>2020-12-18</td>\n",
       "      <td>Ibuprofen</td>\n",
       "      <td>Abnormal</td>\n",
       "    </tr>\n",
       "    <tr>\n",
       "      <th>4</th>\n",
       "      <td>4</td>\n",
       "      <td>adrIENNE bEll</td>\n",
       "      <td>43</td>\n",
       "      <td>Female</td>\n",
       "      <td>AB+</td>\n",
       "      <td>Cancer</td>\n",
       "      <td>2022-09-19</td>\n",
       "      <td>Kathleen Hanna</td>\n",
       "      <td>White-White</td>\n",
       "      <td>Aetna</td>\n",
       "      <td>14238.317814</td>\n",
       "      <td>458</td>\n",
       "      <td>Urgent</td>\n",
       "      <td>2022-10-09</td>\n",
       "      <td>Penicillin</td>\n",
       "      <td>Abnormal</td>\n",
       "    </tr>\n",
       "  </tbody>\n",
       "</table>\n",
       "</div>"
      ]
     },
     "execution_count": 12,
     "metadata": {},
     "output_type": "execute_result"
    }
   ],
   "execution_count": 12
  },
  {
   "metadata": {
    "ExecuteTime": {
     "end_time": "2024-10-23T07:11:07.802030Z",
     "start_time": "2024-10-23T07:11:07.777465Z"
    }
   },
   "cell_type": "code",
   "source": [
    "# Q2 column that has the most missing values\n",
    "missing_percent = df.isnull().mean() * 100\n",
    "print(missing_percent)"
   ],
   "id": "d0aebcd856dd9baf",
   "outputs": [
    {
     "name": "stdout",
     "output_type": "stream",
     "text": [
      "Unnamed: 0            0.000000\n",
      "Name                  0.000000\n",
      "Age                   0.000000\n",
      "Gender                0.000000\n",
      "Blood Type            0.000000\n",
      "Medical Condition     0.000000\n",
      "Date of Admission     0.000000\n",
      "Doctor                3.960360\n",
      "Hospital              0.000000\n",
      "Insurance Provider    3.951351\n",
      "Billing Amount        0.000000\n",
      "Room Number           0.000000\n",
      "Admission Type        0.000000\n",
      "Discharge Date        0.000000\n",
      "Medication            9.760360\n",
      "Test Results          0.000000\n",
      "dtype: float64\n"
     ]
    }
   ],
   "execution_count": 13
  },
  {
   "metadata": {},
   "cell_type": "markdown",
   "source": "",
   "id": "9d9d1da5df5332f9"
  },
  {
   "metadata": {
    "ExecuteTime": {
     "end_time": "2024-10-23T07:11:27.180641Z",
     "start_time": "2024-10-23T07:11:27.149619Z"
    }
   },
   "cell_type": "code",
   "source": [
    "#Q3: How many rows in the dataset that has at least one missing value in their columns\n",
    "df.isnull().sum()\n",
    "#missing_rows = 0\n",
    "#for i in missing_percent != 0.000000:\n",
    "  #   missing_rows +=1\n",
    "  #   print(missing_rows)\n",
    "    "
   ],
   "id": "f35b752853c8d156",
   "outputs": [
    {
     "data": {
      "text/plain": [
       "Unnamed: 0               0\n",
       "Name                     0\n",
       "Age                      0\n",
       "Gender                   0\n",
       "Blood Type               0\n",
       "Medical Condition        0\n",
       "Date of Admission        0\n",
       "Doctor                2198\n",
       "Hospital                 0\n",
       "Insurance Provider    2193\n",
       "Billing Amount           0\n",
       "Room Number              0\n",
       "Admission Type           0\n",
       "Discharge Date           0\n",
       "Medication            5417\n",
       "Test Results             0\n",
       "dtype: int64"
      ]
     },
     "execution_count": 14,
     "metadata": {},
     "output_type": "execute_result"
    }
   ],
   "execution_count": 14
  },
  {
   "metadata": {
    "ExecuteTime": {
     "end_time": "2024-10-23T07:18:22.158169Z",
     "start_time": "2024-10-23T07:18:22.145143Z"
    }
   },
   "cell_type": "code",
   "source": [
    "# Q4: average age of Male\n",
    "# Q5: # Which gender has the higher age average?\n",
    "df.groupby('Gender', as_index=False).Age.mean()"
   ],
   "id": "7a2c45160b8184e4",
   "outputs": [
    {
     "data": {
      "text/plain": [
       "   Gender        Age\n",
       "0  Female  51.578735\n",
       "1    Male  51.500252"
      ],
      "text/html": [
       "<div>\n",
       "<style scoped>\n",
       "    .dataframe tbody tr th:only-of-type {\n",
       "        vertical-align: middle;\n",
       "    }\n",
       "\n",
       "    .dataframe tbody tr th {\n",
       "        vertical-align: top;\n",
       "    }\n",
       "\n",
       "    .dataframe thead th {\n",
       "        text-align: right;\n",
       "    }\n",
       "</style>\n",
       "<table border=\"1\" class=\"dataframe\">\n",
       "  <thead>\n",
       "    <tr style=\"text-align: right;\">\n",
       "      <th></th>\n",
       "      <th>Gender</th>\n",
       "      <th>Age</th>\n",
       "    </tr>\n",
       "  </thead>\n",
       "  <tbody>\n",
       "    <tr>\n",
       "      <th>0</th>\n",
       "      <td>Female</td>\n",
       "      <td>51.578735</td>\n",
       "    </tr>\n",
       "    <tr>\n",
       "      <th>1</th>\n",
       "      <td>Male</td>\n",
       "      <td>51.500252</td>\n",
       "    </tr>\n",
       "  </tbody>\n",
       "</table>\n",
       "</div>"
      ]
     },
     "execution_count": 20,
     "metadata": {},
     "output_type": "execute_result"
    }
   ],
   "execution_count": 20
  },
  {
   "metadata": {
    "ExecuteTime": {
     "end_time": "2024-10-23T07:23:22.822111Z",
     "start_time": "2024-10-23T07:23:22.792788Z"
    }
   },
   "cell_type": "code",
   "source": [
    "# Q6 # How many patients take Ibuprofen as the medication? (in the original data)\n",
    "Ibuprofen_patient = df[df[\"Medication\"] == 'Ibuprofen']\n",
    "print(Ibuprofen_patient)\n",
    "print('Number of patients take Ibuprofen as the medication :' ,Ibuprofen_patient['Name'].count())"
   ],
   "id": "2ea6b91f38d3fa21",
   "outputs": [
    {
     "name": "stdout",
     "output_type": "stream",
     "text": [
      "       Unnamed: 0            Name  Age  Gender Blood Type Medical Condition  \\\n",
      "1               1    LesLie TErRy   62    Male         A+           Obesity   \n",
      "3               3    andrEw waTtS   28  Female         O+          Diabetes   \n",
      "5               5   EMILY JOHNSOn   36    Male         A+            Asthma   \n",
      "26             26     cathy sMaLl   51  Female         O-            Asthma   \n",
      "33             33     Erin oRTEga   43    Male        AB-            Cancer   \n",
      "...           ...             ...  ...     ...        ...               ...   \n",
      "55487       55487  mIsTy RICharDs   78  Female         O-      Hypertension   \n",
      "55494       55494   JEssIcA WHiTe   67    Male         O+         Arthritis   \n",
      "55497       55497    HEATher WaNG   38  Female         B+      Hypertension   \n",
      "55498       55498  JENniFER JOneS   43    Male         O-         Arthritis   \n",
      "55499       55499    jAMES GARCiA   53  Female         O+         Arthritis   \n",
      "\n",
      "      Date of Admission           Doctor                      Hospital  \\\n",
      "1            2019-08-20  Samantha Davies                       Kim Inc   \n",
      "3            2020-11-18      Kevin Wells    Hernandez Rogers and Vang,   \n",
      "5            2023-12-20    Taylor Newton                Nunez-Humphrey   \n",
      "26           2023-12-23      Wendy Glenn       Brown, and Jones Weaver   \n",
      "33           2023-05-24   Heather Garcia                Lopez-Phillips   \n",
      "...                 ...              ...                           ...   \n",
      "55487        2024-04-10       Sarah Dyer                  Garcia-Wells   \n",
      "55494        2023-12-11     Jesus Jordan                 Miller-Harris   \n",
      "55497        2020-07-13   Joe Jacobs DVM  and Mahoney Johnson Vasquez,   \n",
      "55498        2019-05-25   Kimberly Curry      Jackson Todd and Castro,   \n",
      "55499        2024-04-02    Dennis Warren                Henry Sons and   \n",
      "\n",
      "      Insurance Provider  Billing Amount  Room Number Admission Type  \\\n",
      "1               Medicare    33643.327287          265      Emergency   \n",
      "3               Medicare    37909.782410          450       Elective   \n",
      "5       UnitedHealthcare    48145.110951          389         Urgent   \n",
      "26            Blue Cross    26786.529555          401       Elective   \n",
      "33              Medicare    21185.953530          494       Elective   \n",
      "...                  ...             ...          ...            ...   \n",
      "55487              Cigna    34150.133741          409      Emergency   \n",
      "55494           Medicare    42535.301234          378      Emergency   \n",
      "55497   UnitedHealthcare    27620.764717          347         Urgent   \n",
      "55498           Medicare    32451.092358          321       Elective   \n",
      "55499              Aetna     4010.134172          448         Urgent   \n",
      "\n",
      "      Discharge Date Medication  Test Results  \n",
      "1         2019-08-26  Ibuprofen  Inconclusive  \n",
      "3         2020-12-18  Ibuprofen      Abnormal  \n",
      "5         2023-12-24  Ibuprofen        Normal  \n",
      "26        2024-01-19  Ibuprofen        Normal  \n",
      "33        2023-06-03  Ibuprofen        Normal  \n",
      "...              ...        ...           ...  \n",
      "55487     2024-04-23  Ibuprofen        Normal  \n",
      "55494     2024-01-04  Ibuprofen        Normal  \n",
      "55497     2020-08-10  Ibuprofen      Abnormal  \n",
      "55498     2019-05-31  Ibuprofen      Abnormal  \n",
      "55499     2024-04-29  Ibuprofen      Abnormal  \n",
      "\n",
      "[10060 rows x 16 columns]\n",
      "Number of patients take Ibuprofen as the medication : 10060\n"
     ]
    }
   ],
   "execution_count": 27
  },
  {
   "metadata": {
    "ExecuteTime": {
     "end_time": "2024-10-23T07:26:28.688192Z",
     "start_time": "2024-10-23T07:26:28.516889Z"
    }
   },
   "cell_type": "code",
   "source": [
    "# Q7: Filling value with most frequent data from each respective column\n",
    "print(\"\\nReplace the missing values with the most frequent values present in each column:\")\n",
    "result = df.fillna(df.mode().iloc[0])\n",
    "print(result)"
   ],
   "id": "a9079209ba396fb3",
   "outputs": [
    {
     "name": "stdout",
     "output_type": "stream",
     "text": [
      "\n",
      "Replace the missing values with the most frequent values present in each column:\n",
      "       Unnamed: 0               Name  Age  Gender Blood Type  \\\n",
      "0               0      Bobby JacksOn   30    Male         B-   \n",
      "1               1       LesLie TErRy   62    Male         A+   \n",
      "2               2        DaNnY sMitH   76  Female         A-   \n",
      "3               3       andrEw waTtS   28  Female         O+   \n",
      "4               4      adrIENNE bEll   43  Female        AB+   \n",
      "...           ...                ...  ...     ...        ...   \n",
      "55495       55495  eLIZABeTH jaCkSOn   42  Female         O+   \n",
      "55496       55496         KYle pEREz   61  Female        AB-   \n",
      "55497       55497       HEATher WaNG   38  Female         B+   \n",
      "55498       55498     JENniFER JOneS   43    Male         O-   \n",
      "55499       55499       jAMES GARCiA   53  Female         O+   \n",
      "\n",
      "      Medical Condition Date of Admission            Doctor  \\\n",
      "0                Cancer        2024-01-31     Matthew Smith   \n",
      "1               Obesity        2019-08-20   Samantha Davies   \n",
      "2               Obesity        2022-09-22  Tiffany Mitchell   \n",
      "3              Diabetes        2020-11-18       Kevin Wells   \n",
      "4                Cancer        2022-09-19    Kathleen Hanna   \n",
      "...                 ...               ...               ...   \n",
      "55495            Asthma        2020-08-16     Joshua Jarvis   \n",
      "55496           Obesity        2020-01-23   Taylor Sullivan   \n",
      "55497      Hypertension        2020-07-13    Joe Jacobs DVM   \n",
      "55498         Arthritis        2019-05-25    Kimberly Curry   \n",
      "55499         Arthritis        2024-04-02     Dennis Warren   \n",
      "\n",
      "                           Hospital Insurance Provider  Billing Amount  \\\n",
      "0                   Sons and Miller         Blue Cross    18856.281306   \n",
      "1                           Kim Inc           Medicare    33643.327287   \n",
      "2                          Cook PLC              Aetna    27955.096079   \n",
      "3        Hernandez Rogers and Vang,           Medicare    37909.782410   \n",
      "4                       White-White              Aetna    14238.317814   \n",
      "...                             ...                ...             ...   \n",
      "55495                Jones-Thompson         Blue Cross     2650.714952   \n",
      "55496                  Tucker-Moyer              Cigna    31457.797307   \n",
      "55497  and Mahoney Johnson Vasquez,   UnitedHealthcare    27620.764717   \n",
      "55498      Jackson Todd and Castro,           Medicare    32451.092358   \n",
      "55499                Henry Sons and              Aetna     4010.134172   \n",
      "\n",
      "       Room Number Admission Type Discharge Date   Medication  Test Results  \n",
      "0              328         Urgent     2024-02-02  Paracetamol        Normal  \n",
      "1              265      Emergency     2019-08-26    Ibuprofen  Inconclusive  \n",
      "2              205      Emergency     2022-10-07      Aspirin        Normal  \n",
      "3              450       Elective     2020-12-18    Ibuprofen      Abnormal  \n",
      "4              458         Urgent     2022-10-09   Penicillin      Abnormal  \n",
      "...            ...            ...            ...          ...           ...  \n",
      "55495          417       Elective     2020-09-15   Penicillin      Abnormal  \n",
      "55496          316       Elective     2020-02-01      Aspirin        Normal  \n",
      "55497          347         Urgent     2020-08-10    Ibuprofen      Abnormal  \n",
      "55498          321       Elective     2019-05-31    Ibuprofen      Abnormal  \n",
      "55499          448         Urgent     2024-04-29    Ibuprofen      Abnormal  \n",
      "\n",
      "[55500 rows x 16 columns]\n"
     ]
    }
   ],
   "execution_count": 29
  },
  {
   "metadata": {
    "ExecuteTime": {
     "end_time": "2024-10-23T07:27:49.892622Z",
     "start_time": "2024-10-23T07:27:49.870530Z"
    }
   },
   "cell_type": "code",
   "source": [
    "# what is the most medication used\n",
    "print('Most medication used', result['Medication'].value_counts())"
   ],
   "id": "e73681f3a14a7a6",
   "outputs": [
    {
     "name": "stdout",
     "output_type": "stream",
     "text": [
      "Most medication used Medication\n",
      "Ibuprofen      15477\n",
      "Lipitor        10047\n",
      "Penicillin     10032\n",
      "Aspirin         9989\n",
      "Paracetamol     9955\n",
      "Name: count, dtype: int64\n"
     ]
    }
   ],
   "execution_count": 30
  },
  {
   "metadata": {},
   "cell_type": "markdown",
   "source": "",
   "id": "92932803d972e4e2"
  },
  {
   "metadata": {
    "ExecuteTime": {
     "end_time": "2024-10-23T07:31:03.849586Z",
     "start_time": "2024-10-23T07:31:03.814816Z"
    }
   },
   "cell_type": "code",
   "source": [
    "# Which hospital has the most patients admitted\n",
    "most_popular_hospital = result.groupby('Hospital').size().sort_values(ascending=False)\n",
    "print(most_popular_hospital)"
   ],
   "id": "c16a34d3ac30f58e",
   "outputs": [
    {
     "name": "stdout",
     "output_type": "stream",
     "text": [
      "Hospital\n",
      "LLC Smith                      44\n",
      "Ltd Smith                      39\n",
      "Johnson PLC                    38\n",
      "Smith Ltd                      37\n",
      "Smith PLC                      36\n",
      "                               ..\n",
      "Jimenez Wade, and King          1\n",
      "Jimenez Roy, Johnson and        1\n",
      "Jimenez Logan Lee, and          1\n",
      "Jimenez Humphrey and Evans,     1\n",
      "and Zuniga Thompson, Blake      1\n",
      "Length: 39876, dtype: int64\n"
     ]
    }
   ],
   "execution_count": 34
  },
  {
   "metadata": {
    "ExecuteTime": {
     "end_time": "2024-10-23T07:32:50.078374Z",
     "start_time": "2024-10-23T07:32:50.062070Z"
    }
   },
   "cell_type": "code",
   "source": [
    "most_common_mediction = df.groupby('Medical Condition').size().sort_values(ascending=False)\n",
    "print(most_common_mediction)"
   ],
   "id": "22f7127e9f85ef8a",
   "outputs": [
    {
     "name": "stdout",
     "output_type": "stream",
     "text": [
      "Medical Condition\n",
      "Arthritis       9308\n",
      "Diabetes        9304\n",
      "Hypertension    9245\n",
      "Obesity         9231\n",
      "Cancer          9227\n",
      "Asthma          9185\n",
      "dtype: int64\n"
     ]
    }
   ],
   "execution_count": 38
  },
  {
   "metadata": {
    "ExecuteTime": {
     "end_time": "2024-10-23T08:00:22.748679Z",
     "start_time": "2024-10-23T08:00:22.641079Z"
    }
   },
   "cell_type": "code",
   "source": [
    "# Prepare data for boxplot\n",
    "df['Age Group'] = pd.cut(df['Age'], bins=[0, 15, 100], labels=['<=15', '>=87'])\n",
    "\n",
    "plt.figure(figsize=(8, 6))\n",
    "df.boxplot(column='Billing Amount', by='Age Group', grid=False)\n",
    "\n",
    "plt.xlabel('Age')\n",
    "plt.ylabel('Billing Amount')\n",
    "plt.title('')\n",
    "plt.suptitle('')  # Remove the automatic title\n",
    "plt.show()"
   ],
   "id": "431222fc0386d40b",
   "outputs": [
    {
     "data": {
      "text/plain": [
       "<Figure size 800x600 with 0 Axes>"
      ]
     },
     "metadata": {},
     "output_type": "display_data"
    },
    {
     "data": {
      "text/plain": [
       "<Figure size 640x480 with 1 Axes>"
      ],
      "image/png": "[encoded data removed]"
     },
     "metadata": {},
     "output_type": "display_data"
    }
   ],
   "execution_count": 56
  },
  {
   "metadata": {
    "ExecuteTime": {
     "end_time": "2024-10-23T08:00:37.576984Z",
     "start_time": "2024-10-23T08:00:37.465404Z"
    }
   },
   "cell_type": "code",
   "source": [
    "plt.figure(figsize=(8, 6))\n",
    "\n",
    "# Plot histogram with density\n",
    "df['Age'].plot(kind='hist', bins=10, density=True, alpha=0.7, edgecolor='black')\n",
    "\n",
    "plt.xlabel('Age')\n",
    "plt.ylabel('Frequency')\n",
    "plt.show()\n"
   ],
   "id": "66f2b3c24163744c",
   "outputs": [
    {
     "data": {
      "text/plain": [
       "<Figure size 800x600 with 1 Axes>"
      ],
      "image/png": "[encoded data removed]"
     },
     "metadata": {},
     "output_type": "display_data"
    }
   ],
   "execution_count": 57
  },
  {
   "metadata": {
    "ExecuteTime": {
     "end_time": "2024-10-23T07:43:52.619872Z",
     "start_time": "2024-10-23T07:43:52.586966Z"
    }
   },
   "cell_type": "code",
   "source": [
    "# Convert the Date of Admission into Pandas datetime format\n",
    "df['Date of Admission'] = pd.to_datetime(df['Date of Admission'])\n",
    "df.head()"
   ],
   "id": "da4f6db13f3d7f99",
   "outputs": [
    {
     "data": {
      "text/plain": [
       "   Unnamed: 0           Name  Age  Gender Blood Type Medical Condition  \\\n",
       "0           0  Bobby JacksOn   30    Male         B-            Cancer   \n",
       "1           1   LesLie TErRy   62    Male         A+           Obesity   \n",
       "2           2    DaNnY sMitH   76  Female         A-           Obesity   \n",
       "3           3   andrEw waTtS   28  Female         O+          Diabetes   \n",
       "4           4  adrIENNE bEll   43  Female        AB+            Cancer   \n",
       "\n",
       "  Date of Admission            Doctor                    Hospital  \\\n",
       "0        2024-01-31     Matthew Smith             Sons and Miller   \n",
       "1        2019-08-20   Samantha Davies                     Kim Inc   \n",
       "2        2022-09-22  Tiffany Mitchell                    Cook PLC   \n",
       "3        2020-11-18       Kevin Wells  Hernandez Rogers and Vang,   \n",
       "4        2022-09-19    Kathleen Hanna                 White-White   \n",
       "\n",
       "  Insurance Provider  Billing Amount  Room Number Admission Type  \\\n",
       "0         Blue Cross    18856.281306          328         Urgent   \n",
       "1           Medicare    33643.327287          265      Emergency   \n",
       "2              Aetna    27955.096079          205      Emergency   \n",
       "3           Medicare    37909.782410          450       Elective   \n",
       "4              Aetna    14238.317814          458         Urgent   \n",
       "\n",
       "  Discharge Date   Medication  Test Results  \n",
       "0     2024-02-02  Paracetamol        Normal  \n",
       "1     2019-08-26    Ibuprofen  Inconclusive  \n",
       "2     2022-10-07      Aspirin        Normal  \n",
       "3     2020-12-18    Ibuprofen      Abnormal  \n",
       "4     2022-10-09   Penicillin      Abnormal  "
      ],
      "text/html": [
       "<div>\n",
       "<style scoped>\n",
       "    .dataframe tbody tr th:only-of-type {\n",
       "        vertical-align: middle;\n",
       "    }\n",
       "\n",
       "    .dataframe tbody tr th {\n",
       "        vertical-align: top;\n",
       "    }\n",
       "\n",
       "    .dataframe thead th {\n",
       "        text-align: right;\n",
       "    }\n",
       "</style>\n",
       "<table border=\"1\" class=\"dataframe\">\n",
       "  <thead>\n",
       "    <tr style=\"text-align: right;\">\n",
       "      <th></th>\n",
       "      <th>Unnamed: 0</th>\n",
       "      <th>Name</th>\n",
       "      <th>Age</th>\n",
       "      <th>Gender</th>\n",
       "      <th>Blood Type</th>\n",
       "      <th>Medical Condition</th>\n",
       "      <th>Date of Admission</th>\n",
       "      <th>Doctor</th>\n",
       "      <th>Hospital</th>\n",
       "      <th>Insurance Provider</th>\n",
       "      <th>Billing Amount</th>\n",
       "      <th>Room Number</th>\n",
       "      <th>Admission Type</th>\n",
       "      <th>Discharge Date</th>\n",
       "      <th>Medication</th>\n",
       "      <th>Test Results</th>\n",
       "    </tr>\n",
       "  </thead>\n",
       "  <tbody>\n",
       "    <tr>\n",
       "      <th>0</th>\n",
       "      <td>0</td>\n",
       "      <td>Bobby JacksOn</td>\n",
       "      <td>30</td>\n",
       "      <td>Male</td>\n",
       "      <td>B-</td>\n",
       "      <td>Cancer</td>\n",
       "      <td>2024-01-31</td>\n",
       "      <td>Matthew Smith</td>\n",
       "      <td>Sons and Miller</td>\n",
       "      <td>Blue Cross</td>\n",
       "      <td>18856.281306</td>\n",
       "      <td>328</td>\n",
       "      <td>Urgent</td>\n",
       "      <td>2024-02-02</td>\n",
       "      <td>Paracetamol</td>\n",
       "      <td>Normal</td>\n",
       "    </tr>\n",
       "    <tr>\n",
       "      <th>1</th>\n",
       "      <td>1</td>\n",
       "      <td>LesLie TErRy</td>\n",
       "      <td>62</td>\n",
       "      <td>Male</td>\n",
       "      <td>A+</td>\n",
       "      <td>Obesity</td>\n",
       "      <td>2019-08-20</td>\n",
       "      <td>Samantha Davies</td>\n",
       "      <td>Kim Inc</td>\n",
       "      <td>Medicare</td>\n",
       "      <td>33643.327287</td>\n",
       "      <td>265</td>\n",
       "      <td>Emergency</td>\n",
       "      <td>2019-08-26</td>\n",
       "      <td>Ibuprofen</td>\n",
       "      <td>Inconclusive</td>\n",
       "    </tr>\n",
       "    <tr>\n",
       "      <th>2</th>\n",
       "      <td>2</td>\n",
       "      <td>DaNnY sMitH</td>\n",
       "      <td>76</td>\n",
       "      <td>Female</td>\n",
       "      <td>A-</td>\n",
       "      <td>Obesity</td>\n",
       "      <td>2022-09-22</td>\n",
       "      <td>Tiffany Mitchell</td>\n",
       "      <td>Cook PLC</td>\n",
       "      <td>Aetna</td>\n",
       "      <td>27955.096079</td>\n",
       "      <td>205</td>\n",
       "      <td>Emergency</td>\n",
       "      <td>2022-10-07</td>\n",
       "      <td>Aspirin</td>\n",
       "      <td>Normal</td>\n",
       "    </tr>\n",
       "    <tr>\n",
       "      <th>3</th>\n",
       "      <td>3</td>\n",
       "      <td>andrEw waTtS</td>\n",
       "      <td>28</td>\n",
       "      <td>Female</td>\n",
       "      <td>O+</td>\n",
       "      <td>Diabetes</td>\n",
       "      <td>2020-11-18</td>\n",
       "      <td>Kevin Wells</td>\n",
       "      <td>Hernandez Rogers and Vang,</td>\n",
       "      <td>Medicare</td>\n",
       "      <td>37909.782410</td>\n",
       "      <td>450</td>\n",
       "      <td>Elective</td>\n",
       "      <td>2020-12-18</td>\n",
       "      <td>Ibuprofen</td>\n",
       "      <td>Abnormal</td>\n",
       "    </tr>\n",
       "    <tr>\n",
       "      <th>4</th>\n",
       "      <td>4</td>\n",
       "      <td>adrIENNE bEll</td>\n",
       "      <td>43</td>\n",
       "      <td>Female</td>\n",
       "      <td>AB+</td>\n",
       "      <td>Cancer</td>\n",
       "      <td>2022-09-19</td>\n",
       "      <td>Kathleen Hanna</td>\n",
       "      <td>White-White</td>\n",
       "      <td>Aetna</td>\n",
       "      <td>14238.317814</td>\n",
       "      <td>458</td>\n",
       "      <td>Urgent</td>\n",
       "      <td>2022-10-09</td>\n",
       "      <td>Penicillin</td>\n",
       "      <td>Abnormal</td>\n",
       "    </tr>\n",
       "  </tbody>\n",
       "</table>\n",
       "</div>"
      ]
     },
     "execution_count": 45,
     "metadata": {},
     "output_type": "execute_result"
    }
   ],
   "execution_count": 45
  },
  {
   "metadata": {
    "ExecuteTime": {
     "end_time": "2024-10-23T07:44:47.497433Z",
     "start_time": "2024-10-23T07:44:47.478675Z"
    }
   },
   "cell_type": "code",
   "source": [
    "df[\"Month\"] = df[\"Date of Admission\"].dt.month\n",
    "df.head()"
   ],
   "id": "6a64793e5b971e6",
   "outputs": [
    {
     "data": {
      "text/plain": [
       "   Unnamed: 0           Name  Age  Gender Blood Type Medical Condition  \\\n",
       "0           0  Bobby JacksOn   30    Male         B-            Cancer   \n",
       "1           1   LesLie TErRy   62    Male         A+           Obesity   \n",
       "2           2    DaNnY sMitH   76  Female         A-           Obesity   \n",
       "3           3   andrEw waTtS   28  Female         O+          Diabetes   \n",
       "4           4  adrIENNE bEll   43  Female        AB+            Cancer   \n",
       "\n",
       "  Date of Admission            Doctor                    Hospital  \\\n",
       "0        2024-01-31     Matthew Smith             Sons and Miller   \n",
       "1        2019-08-20   Samantha Davies                     Kim Inc   \n",
       "2        2022-09-22  Tiffany Mitchell                    Cook PLC   \n",
       "3        2020-11-18       Kevin Wells  Hernandez Rogers and Vang,   \n",
       "4        2022-09-19    Kathleen Hanna                 White-White   \n",
       "\n",
       "  Insurance Provider  Billing Amount  Room Number Admission Type  \\\n",
       "0         Blue Cross    18856.281306          328         Urgent   \n",
       "1           Medicare    33643.327287          265      Emergency   \n",
       "2              Aetna    27955.096079          205      Emergency   \n",
       "3           Medicare    37909.782410          450       Elective   \n",
       "4              Aetna    14238.317814          458         Urgent   \n",
       "\n",
       "  Discharge Date   Medication  Test Results  Month  \n",
       "0     2024-02-02  Paracetamol        Normal      1  \n",
       "1     2019-08-26    Ibuprofen  Inconclusive      8  \n",
       "2     2022-10-07      Aspirin        Normal      9  \n",
       "3     2020-12-18    Ibuprofen      Abnormal     11  \n",
       "4     2022-10-09   Penicillin      Abnormal      9  "
      ],
      "text/html": [
       "<div>\n",
       "<style scoped>\n",
       "    .dataframe tbody tr th:only-of-type {\n",
       "        vertical-align: middle;\n",
       "    }\n",
       "\n",
       "    .dataframe tbody tr th {\n",
       "        vertical-align: top;\n",
       "    }\n",
       "\n",
       "    .dataframe thead th {\n",
       "        text-align: right;\n",
       "    }\n",
       "</style>\n",
       "<table border=\"1\" class=\"dataframe\">\n",
       "  <thead>\n",
       "    <tr style=\"text-align: right;\">\n",
       "      <th></th>\n",
       "      <th>Unnamed: 0</th>\n",
       "      <th>Name</th>\n",
       "      <th>Age</th>\n",
       "      <th>Gender</th>\n",
       "      <th>Blood Type</th>\n",
       "      <th>Medical Condition</th>\n",
       "      <th>Date of Admission</th>\n",
       "      <th>Doctor</th>\n",
       "      <th>Hospital</th>\n",
       "      <th>Insurance Provider</th>\n",
       "      <th>Billing Amount</th>\n",
       "      <th>Room Number</th>\n",
       "      <th>Admission Type</th>\n",
       "      <th>Discharge Date</th>\n",
       "      <th>Medication</th>\n",
       "      <th>Test Results</th>\n",
       "      <th>Month</th>\n",
       "    </tr>\n",
       "  </thead>\n",
       "  <tbody>\n",
       "    <tr>\n",
       "      <th>0</th>\n",
       "      <td>0</td>\n",
       "      <td>Bobby JacksOn</td>\n",
       "      <td>30</td>\n",
       "      <td>Male</td>\n",
       "      <td>B-</td>\n",
       "      <td>Cancer</td>\n",
       "      <td>2024-01-31</td>\n",
       "      <td>Matthew Smith</td>\n",
       "      <td>Sons and Miller</td>\n",
       "      <td>Blue Cross</td>\n",
       "      <td>18856.281306</td>\n",
       "      <td>328</td>\n",
       "      <td>Urgent</td>\n",
       "      <td>2024-02-02</td>\n",
       "      <td>Paracetamol</td>\n",
       "      <td>Normal</td>\n",
       "      <td>1</td>\n",
       "    </tr>\n",
       "    <tr>\n",
       "      <th>1</th>\n",
       "      <td>1</td>\n",
       "      <td>LesLie TErRy</td>\n",
       "      <td>62</td>\n",
       "      <td>Male</td>\n",
       "      <td>A+</td>\n",
       "      <td>Obesity</td>\n",
       "      <td>2019-08-20</td>\n",
       "      <td>Samantha Davies</td>\n",
       "      <td>Kim Inc</td>\n",
       "      <td>Medicare</td>\n",
       "      <td>33643.327287</td>\n",
       "      <td>265</td>\n",
       "      <td>Emergency</td>\n",
       "      <td>2019-08-26</td>\n",
       "      <td>Ibuprofen</td>\n",
       "      <td>Inconclusive</td>\n",
       "      <td>8</td>\n",
       "    </tr>\n",
       "    <tr>\n",
       "      <th>2</th>\n",
       "      <td>2</td>\n",
       "      <td>DaNnY sMitH</td>\n",
       "      <td>76</td>\n",
       "      <td>Female</td>\n",
       "      <td>A-</td>\n",
       "      <td>Obesity</td>\n",
       "      <td>2022-09-22</td>\n",
       "      <td>Tiffany Mitchell</td>\n",
       "      <td>Cook PLC</td>\n",
       "      <td>Aetna</td>\n",
       "      <td>27955.096079</td>\n",
       "      <td>205</td>\n",
       "      <td>Emergency</td>\n",
       "      <td>2022-10-07</td>\n",
       "      <td>Aspirin</td>\n",
       "      <td>Normal</td>\n",
       "      <td>9</td>\n",
       "    </tr>\n",
       "    <tr>\n",
       "      <th>3</th>\n",
       "      <td>3</td>\n",
       "      <td>andrEw waTtS</td>\n",
       "      <td>28</td>\n",
       "      <td>Female</td>\n",
       "      <td>O+</td>\n",
       "      <td>Diabetes</td>\n",
       "      <td>2020-11-18</td>\n",
       "      <td>Kevin Wells</td>\n",
       "      <td>Hernandez Rogers and Vang,</td>\n",
       "      <td>Medicare</td>\n",
       "      <td>37909.782410</td>\n",
       "      <td>450</td>\n",
       "      <td>Elective</td>\n",
       "      <td>2020-12-18</td>\n",
       "      <td>Ibuprofen</td>\n",
       "      <td>Abnormal</td>\n",
       "      <td>11</td>\n",
       "    </tr>\n",
       "    <tr>\n",
       "      <th>4</th>\n",
       "      <td>4</td>\n",
       "      <td>adrIENNE bEll</td>\n",
       "      <td>43</td>\n",
       "      <td>Female</td>\n",
       "      <td>AB+</td>\n",
       "      <td>Cancer</td>\n",
       "      <td>2022-09-19</td>\n",
       "      <td>Kathleen Hanna</td>\n",
       "      <td>White-White</td>\n",
       "      <td>Aetna</td>\n",
       "      <td>14238.317814</td>\n",
       "      <td>458</td>\n",
       "      <td>Urgent</td>\n",
       "      <td>2022-10-09</td>\n",
       "      <td>Penicillin</td>\n",
       "      <td>Abnormal</td>\n",
       "      <td>9</td>\n",
       "    </tr>\n",
       "  </tbody>\n",
       "</table>\n",
       "</div>"
      ]
     },
     "execution_count": 47,
     "metadata": {},
     "output_type": "execute_result"
    }
   ],
   "execution_count": 47
  },
  {
   "metadata": {
    "ExecuteTime": {
     "end_time": "2024-10-23T08:01:02.511458Z",
     "start_time": "2024-10-23T08:01:02.429346Z"
    }
   },
   "cell_type": "code",
   "source": [
    "# Filter for patients age >= 87\n",
    "df_filtered = df[df['Age'] >= 87]\n",
    "\n",
    "# Scatter plot grouped by gender\n",
    "colors = {'Female': 'tab:blue', 'Male': 'tab:orange'}\n",
    "plt.figure(figsize=(8, 6))\n",
    "for gender, group in df_filtered.groupby('Gender'):\n",
    "    plt.scatter(group['Month'], group['Billing Amount'], \n",
    "                label=gender, alpha=0.7, s=100, c=colors[gender])\n",
    "\n",
    "plt.xlabel('Month')\n",
    "plt.ylabel('Billing Amount')\n",
    "plt.title('Patients Age >=87')\n",
    "plt.legend(title='Gender')\n",
    "plt.show()\n"
   ],
   "id": "71623f56a6203334",
   "outputs": [
    {
     "ename": "KeyError",
     "evalue": "'Month'",
     "output_type": "error",
     "traceback": [
      "\u001B[0;31m---------------------------------------------------------------------------\u001B[0m",
      "\u001B[0;31mKeyError\u001B[0m                                  Traceback (most recent call last)",
      "File \u001B[0;32m~/miniconda3/lib/python3.12/site-packages/pandas/core/indexes/base.py:3805\u001B[0m, in \u001B[0;36mIndex.get_loc\u001B[0;34m(self, key)\u001B[0m\n\u001B[1;32m   3804\u001B[0m \u001B[38;5;28;01mtry\u001B[39;00m:\n\u001B[0;32m-> 3805\u001B[0m     \u001B[38;5;28;01mreturn\u001B[39;00m \u001B[38;5;28mself\u001B[39m\u001B[38;5;241m.\u001B[39m_engine\u001B[38;5;241m.\u001B[39mget_loc(casted_key)\n\u001B[1;32m   3806\u001B[0m \u001B[38;5;28;01mexcept\u001B[39;00m \u001B[38;5;167;01mKeyError\u001B[39;00m \u001B[38;5;28;01mas\u001B[39;00m err:\n",
      "File \u001B[0;32mindex.pyx:167\u001B[0m, in \u001B[0;36mpandas._libs.index.IndexEngine.get_loc\u001B[0;34m()\u001B[0m\n",
      "File \u001B[0;32mindex.pyx:196\u001B[0m, in \u001B[0;36mpandas._libs.index.IndexEngine.get_loc\u001B[0;34m()\u001B[0m\n",
      "File \u001B[0;32mpandas/_libs/hashtable_class_helper.pxi:7081\u001B[0m, in \u001B[0;36mpandas._libs.hashtable.PyObjectHashTable.get_item\u001B[0;34m()\u001B[0m\n",
      "File \u001B[0;32mpandas/_libs/hashtable_class_helper.pxi:7089\u001B[0m, in \u001B[0;36mpandas._libs.hashtable.PyObjectHashTable.get_item\u001B[0;34m()\u001B[0m\n",
      "\u001B[0;31mKeyError\u001B[0m: 'Month'",
      "\nThe above exception was the direct cause of the following exception:\n",
      "\u001B[0;31mKeyError\u001B[0m                                  Traceback (most recent call last)",
      "Cell \u001B[0;32mIn[58], line 8\u001B[0m\n\u001B[1;32m      6\u001B[0m plt\u001B[38;5;241m.\u001B[39mfigure(figsize\u001B[38;5;241m=\u001B[39m(\u001B[38;5;241m8\u001B[39m, \u001B[38;5;241m6\u001B[39m))\n\u001B[1;32m      7\u001B[0m \u001B[38;5;28;01mfor\u001B[39;00m gender, group \u001B[38;5;129;01min\u001B[39;00m df_filtered\u001B[38;5;241m.\u001B[39mgroupby(\u001B[38;5;124m'\u001B[39m\u001B[38;5;124mGender\u001B[39m\u001B[38;5;124m'\u001B[39m):\n\u001B[0;32m----> 8\u001B[0m     plt\u001B[38;5;241m.\u001B[39mscatter(group[\u001B[38;5;124m'\u001B[39m\u001B[38;5;124mMonth\u001B[39m\u001B[38;5;124m'\u001B[39m], group[\u001B[38;5;124m'\u001B[39m\u001B[38;5;124mBilling Amount\u001B[39m\u001B[38;5;124m'\u001B[39m], \n\u001B[1;32m      9\u001B[0m                 label\u001B[38;5;241m=\u001B[39mgender, alpha\u001B[38;5;241m=\u001B[39m\u001B[38;5;241m0.7\u001B[39m, s\u001B[38;5;241m=\u001B[39m\u001B[38;5;241m100\u001B[39m, c\u001B[38;5;241m=\u001B[39mcolors[gender])\n\u001B[1;32m     11\u001B[0m plt\u001B[38;5;241m.\u001B[39mxlabel(\u001B[38;5;124m'\u001B[39m\u001B[38;5;124mMonth\u001B[39m\u001B[38;5;124m'\u001B[39m)\n\u001B[1;32m     12\u001B[0m plt\u001B[38;5;241m.\u001B[39mylabel(\u001B[38;5;124m'\u001B[39m\u001B[38;5;124mBilling Amount\u001B[39m\u001B[38;5;124m'\u001B[39m)\n",
      "File \u001B[0;32m~/miniconda3/lib/python3.12/site-packages/pandas/core/frame.py:4102\u001B[0m, in \u001B[0;36mDataFrame.__getitem__\u001B[0;34m(self, key)\u001B[0m\n\u001B[1;32m   4100\u001B[0m \u001B[38;5;28;01mif\u001B[39;00m \u001B[38;5;28mself\u001B[39m\u001B[38;5;241m.\u001B[39mcolumns\u001B[38;5;241m.\u001B[39mnlevels \u001B[38;5;241m>\u001B[39m \u001B[38;5;241m1\u001B[39m:\n\u001B[1;32m   4101\u001B[0m     \u001B[38;5;28;01mreturn\u001B[39;00m \u001B[38;5;28mself\u001B[39m\u001B[38;5;241m.\u001B[39m_getitem_multilevel(key)\n\u001B[0;32m-> 4102\u001B[0m indexer \u001B[38;5;241m=\u001B[39m \u001B[38;5;28mself\u001B[39m\u001B[38;5;241m.\u001B[39mcolumns\u001B[38;5;241m.\u001B[39mget_loc(key)\n\u001B[1;32m   4103\u001B[0m \u001B[38;5;28;01mif\u001B[39;00m is_integer(indexer):\n\u001B[1;32m   4104\u001B[0m     indexer \u001B[38;5;241m=\u001B[39m [indexer]\n",
      "File \u001B[0;32m~/miniconda3/lib/python3.12/site-packages/pandas/core/indexes/base.py:3812\u001B[0m, in \u001B[0;36mIndex.get_loc\u001B[0;34m(self, key)\u001B[0m\n\u001B[1;32m   3807\u001B[0m     \u001B[38;5;28;01mif\u001B[39;00m \u001B[38;5;28misinstance\u001B[39m(casted_key, \u001B[38;5;28mslice\u001B[39m) \u001B[38;5;129;01mor\u001B[39;00m (\n\u001B[1;32m   3808\u001B[0m         \u001B[38;5;28misinstance\u001B[39m(casted_key, abc\u001B[38;5;241m.\u001B[39mIterable)\n\u001B[1;32m   3809\u001B[0m         \u001B[38;5;129;01mand\u001B[39;00m \u001B[38;5;28many\u001B[39m(\u001B[38;5;28misinstance\u001B[39m(x, \u001B[38;5;28mslice\u001B[39m) \u001B[38;5;28;01mfor\u001B[39;00m x \u001B[38;5;129;01min\u001B[39;00m casted_key)\n\u001B[1;32m   3810\u001B[0m     ):\n\u001B[1;32m   3811\u001B[0m         \u001B[38;5;28;01mraise\u001B[39;00m InvalidIndexError(key)\n\u001B[0;32m-> 3812\u001B[0m     \u001B[38;5;28;01mraise\u001B[39;00m \u001B[38;5;167;01mKeyError\u001B[39;00m(key) \u001B[38;5;28;01mfrom\u001B[39;00m \u001B[38;5;21;01merr\u001B[39;00m\n\u001B[1;32m   3813\u001B[0m \u001B[38;5;28;01mexcept\u001B[39;00m \u001B[38;5;167;01mTypeError\u001B[39;00m:\n\u001B[1;32m   3814\u001B[0m     \u001B[38;5;66;03m# If we have a listlike key, _check_indexing_error will raise\u001B[39;00m\n\u001B[1;32m   3815\u001B[0m     \u001B[38;5;66;03m#  InvalidIndexError. Otherwise we fall through and re-raise\u001B[39;00m\n\u001B[1;32m   3816\u001B[0m     \u001B[38;5;66;03m#  the TypeError.\u001B[39;00m\n\u001B[1;32m   3817\u001B[0m     \u001B[38;5;28mself\u001B[39m\u001B[38;5;241m.\u001B[39m_check_indexing_error(key)\n",
      "\u001B[0;31mKeyError\u001B[0m: 'Month'"
     ]
    },
    {
     "data": {
      "text/plain": [
       "<Figure size 800x600 with 0 Axes>"
      ]
     },
     "metadata": {},
     "output_type": "display_data"
    }
   ],
   "execution_count": 58
  },
  {
   "metadata": {},
   "cell_type": "code",
   "outputs": [],
   "execution_count": null,
   "source": "",
   "id": "b9a80e250a83463a"
  }
 ],
 "metadata": {
  "kernelspec": {
   "display_name": "Python 3",
   "language": "python",
   "name": "python3"
  },
  "language_info": {
   "codemirror_mode": {
    "name": "ipython",
    "version": 2
   },
   "file_extension": ".py",
   "mimetype": "text/x-python",
   "name": "python",
   "nbconvert_exporter": "python",
   "pygments_lexer": "ipython2",
   "version": "2.7.6"
  }
 },
 "nbformat": 4,
 "nbformat_minor": 5
}
